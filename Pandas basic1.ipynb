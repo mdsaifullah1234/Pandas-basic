{
 "cells": [
  {
   "cell_type": "markdown",
   "metadata": {},
   "source": [
    "Q1. Create a Pandas Series that contains the following data: 4, 8, 15, 16, 23, and 42. Then, print the series."
   ]
  },
  {
   "cell_type": "code",
   "execution_count": null,
   "metadata": {},
   "outputs": [],
   "source": [
    "import pandas as pd\n",
    "\n",
    "# Create a Pandas Series\n",
    "data = [4, 8, 15, 16, 23, 42]\n",
    "series = pd.Series(data)\n",
    "\n",
    "# Print the Series\n",
    "print(series)\n"
   ]
  },
  {
   "cell_type": "markdown",
   "metadata": {},
   "source": [
    "Q2. Create a variable of list type containing 10 elements in it, and apply pandas.Series function on the\n",
    "variable print it."
   ]
  },
  {
   "cell_type": "code",
   "execution_count": null,
   "metadata": {},
   "outputs": [],
   "source": [
    "import pandas as pd\n",
    "\n",
    "# Create a list with 10 elements\n",
    "my_list = [1, 2, 3, 4, 5, 6, 7, 8, 9, 10]\n",
    "\n",
    "# Convert the list into a Pandas Series\n",
    "my_series = pd.Series(my_list)\n",
    "\n",
    "# Print the resulting Pandas Series\n",
    "print(my_series)\n"
   ]
  },
  {
   "cell_type": "markdown",
   "metadata": {},
   "source": [
    "Q3).  Create a Pandas DataFrame that contains the following data:\n",
    "\n",
    "\n",
    "Name         age       Gender\n",
    "Alice        25        Female\n",
    "Bob          30        Male\n",
    "Claire       27        Female"
   ]
  },
  {
   "cell_type": "code",
   "execution_count": null,
   "metadata": {},
   "outputs": [],
   "source": [
    "import pandas as pd\n",
    "\n",
    "# Creating a DataFrame\n",
    "data = {'Name': ['Alice', 'Bob', 'Claire'],\n",
    "        'Age': [25, 30, 27],\n",
    "        'Gender': ['Female', 'Male', 'Female']}\n",
    "\n",
    "df = pd.DataFrame(data)\n",
    "\n",
    "# Printing the DataFrame\n",
    "print(df)\n"
   ]
  },
  {
   "cell_type": "markdown",
   "metadata": {},
   "source": [
    "Q4. What is ‘DataFrame’ in pandas and how is it different from pandas.series? Explain with an example."
   ]
  },
  {
   "cell_type": "code",
   "execution_count": null,
   "metadata": {},
   "outputs": [],
   "source": [
    "import pandas as pd\n",
    "\n",
    "# Creating a Series\n",
    "series_data = pd.Series([1, 2, 3, 4], name='MySeries')\n",
    "\n",
    "# Creating a DataFrame\n",
    "df_data = pd.DataFrame({'Column1': [1, 2, 3, 4],\n",
    "                        'Column2': ['A', 'B', 'C', 'D']})\n",
    "\n",
    "# Printing the Series\n",
    "print(\"Series:\")\n",
    "print(series_data)\n",
    "print(\"\\n\")\n",
    "\n",
    "# Printing the DataFrame\n",
    "print(\"DataFrame:\")\n",
    "print(df_data)\n"
   ]
  },
  {
   "cell_type": "markdown",
   "metadata": {},
   "source": [
    "Q5. What are some common functions you can use to manipulate data in a Pandas DataFrame? Can\n",
    "you give an example of when you might use one of these functions?"
   ]
  },
  {
   "cell_type": "markdown",
   "metadata": {},
   "source": [
    "Answer = Data selection\n",
    "Data selection functions allow you to select specific rows or columns from a DataFrame based on certain criteria. Some common data selection functions include:\n",
    "\n",
    "df[condition]: This function selects rows from the DataFrame where the condition is True. For example, to select all rows where the value in the 'age' column is greater than 30, you would use:\n",
    "\n",
    "\n",
    "\n",
    " Data manipulation\n",
    "Data manipulation functions allow you to modify or transform the data in a DataFrame. Some common data manipulation functions include:\n",
    "\n",
    "df.dropna(): This function drops rows with missing values from the DataFrame.\n",
    "\n",
    "df.fillna(value): This function replaces missing values in a DataFrame with a specified value. For example, to replace missing values in the 'age' column with the mean age, you would use:\n",
    "\n",
    "\n",
    "\n",
    "\n",
    "\n",
    " Descriptive statistics\n",
    "Descriptive statistics functions provide summary information about the data in a DataFrame. Some common descriptive statistics functions include:\n",
    "\n",
    "df.describe(): This function provides summary statistics for all numeric columns in the DataFrame.\n",
    "\n",
    "df.mean(): This function calculates the mean of each numeric column in the DataFrame.\n",
    "\n",
    "df.std(): This function calculates the standard deviation of each numeric column in the DataFrame.\n",
    "\n",
    "4. Data aggregation\n",
    "Data aggregation functions allow you to group data and perform calculations on the grouped data. Some common data aggregation functions include:\n",
    "\n",
    "df.groupby('column_name'): This function groups the DataFrame by the specified column.\n",
    "\n",
    "df.groupby('column_name')['target_column'].agg(function): This function applies a specified function to the grouped data. For example, to calculate the mean value of the 'price' column for each group in the 'category' column, you would use:\n",
    "\n"
   ]
  },
  {
   "cell_type": "markdown",
   "metadata": {},
   "source": [
    "Q6. Which of the following is mutable in nature Series, DataFrame, Panel?"
   ]
  },
  {
   "cell_type": "markdown",
   "metadata": {},
   "source": [
    "Answer = Series: A pandas Series is immutable. Once a Series is created, you cannot modify the values or the index of the Series directly. If you need to make changes, you typically create a new Series.\n",
    "\n",
    "DataFrame: A pandas DataFrame is mutable. You can modify its contents, add or remove columns, and change values within the DataFrame after it has been created.\n",
    "\n",
    "Panel: The Panel was deprecated in recent versions of pandas, and its functionality has been incorporated into the MultiIndex DataFrame. DataFrame is now the preferred way to handle three-dimensional data, and it is mutable."
   ]
  },
  {
   "cell_type": "markdown",
   "metadata": {},
   "source": [
    "Q7. Create a DataFrame using multiple Series. Explain with an example."
   ]
  },
  {
   "cell_type": "code",
   "execution_count": null,
   "metadata": {},
   "outputs": [],
   "source": [
    "import pandas as pd\n",
    "\n",
    "# Creating multiple Series\n",
    "name_series = pd.Series(['Alice', 'Bob', 'Claire'], name='Name')\n",
    "age_series = pd.Series([25, 30, 27], name='Age')\n",
    "gender_series = pd.Series(['Female', 'Male', 'Female'], name='Gender')\n",
    "\n",
    "# Creating a DataFrame using the Series\n",
    "df = pd.DataFrame({'Name': name_series, 'Age': age_series, 'Gender': gender_series})\n",
    "\n",
    "# Printing the DataFrame\n",
    "print(df)\n"
   ]
  }
 ],
 "metadata": {
  "kernelspec": {
   "display_name": "Python 3",
   "language": "python",
   "name": "python3"
  },
  "language_info": {
   "codemirror_mode": {
    "name": "ipython",
    "version": 3
   },
   "file_extension": ".py",
   "mimetype": "text/x-python",
   "name": "python",
   "nbconvert_exporter": "python",
   "pygments_lexer": "ipython3",
   "version": "3.8.10"
  }
 },
 "nbformat": 4,
 "nbformat_minor": 2
}
